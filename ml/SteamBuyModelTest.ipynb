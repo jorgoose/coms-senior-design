{
 "cells": [
  {
   "cell_type": "code",
   "execution_count": null,
   "metadata": {},
   "outputs": [],
   "source": [
    "import json\n",
    "import requests\n",
    "import tensorflow as tf\n",
    "import numpy as np \n",
    "import cv2\n",
    "from urllib.request import urlopen\n",
    "import matplotlib.pyplot as plt"
   ]
  },
  {
   "cell_type": "code",
   "execution_count": null,
   "metadata": {},
   "outputs": [],
   "source": [
    "# Simple parse of the 'games.json' file.\n",
    "\n",
    "# returns array of a column\n",
    "def get(collumn):\n",
    "    url = \"https://huggingface.co/datasets/FronkonGames/steam-games-dataset/resolve/main/games.json?download=true\"\n",
    "    response = requests.get(url)\n",
    "    dataset = json.loads(response.text)\n",
    "\n",
    "    data = []\n",
    "\n",
    "    for app in dataset:\n",
    "        data.append(dataset[app][collumn])\n",
    "\n",
    "    return data"
   ]
  },
  {
   "cell_type": "code",
   "execution_count": null,
   "metadata": {},
   "outputs": [],
   "source": [
    "img_width = 460\n",
    "img_height = 215\n",
    "\n",
    "images = []\n",
    "est_owners = []\n",
    "\n",
    "for image, players in zip(get('header_image'), get('estimated_owners')):\n",
    "    images.append(image)\n",
    "    est_owners.append(players)\n",
    "    print(image + \": \" + players)"
   ]
  },
  {
   "cell_type": "code",
   "execution_count": null,
   "metadata": {},
   "outputs": [],
   "source": [
    "dataset = tf.data.Dataset.from_tensor_slices(images)\n",
    "\n",
    "def get(url):\n",
    "    with urlopen(str(url.numpy().decode(\"utf-8\"))) as request:\n",
    "        img_array = np.asarray(bytearray(request.read()), dtype=np.uint8)\n",
    "    img = cv2.imdecode(img_array, cv2.IMREAD_COLOR)\n",
    "    return cv2.cvtColor(img, cv2.COLOR_BGR2RGB)\n",
    "\n",
    "def read_image_from_url(url):\n",
    "    return tf.py_function(get, [url], tf.uint8)\n",
    "\n",
    "\n",
    "dataset_images = dataset.map(lambda x: read_image_from_url(x))\n",
    "\n",
    "for d in dataset_images:\n",
    "  print(d)\n"
   ]
  }
 ],
 "metadata": {
  "kernelspec": {
   "display_name": "Python 3",
   "language": "python",
   "name": "python3"
  },
  "language_info": {
   "codemirror_mode": {
    "name": "ipython",
    "version": 3
   },
   "file_extension": ".py",
   "mimetype": "text/x-python",
   "name": "python",
   "nbconvert_exporter": "python",
   "pygments_lexer": "ipython3",
   "version": "3.11.2"
  }
 },
 "nbformat": 4,
 "nbformat_minor": 2
}
