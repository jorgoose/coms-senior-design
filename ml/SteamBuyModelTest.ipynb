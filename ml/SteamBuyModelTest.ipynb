{
 "cells": [
  {
   "cell_type": "code",
   "execution_count": 6,
   "metadata": {},
   "outputs": [],
   "source": [
    "import json\n",
    "import requests\n",
    "import tensorflow as tf\n",
    "import numpy as np \n",
    "import cv2\n",
    "from urllib.request import urlopen\n",
    "import matplotlib.pyplot as plt\n",
    "from PIL import Image\n",
    "import os"
   ]
  },
  {
   "cell_type": "code",
   "execution_count": 2,
   "metadata": {},
   "outputs": [],
   "source": [
    "# Simple parse of the 'games.json' file.\n",
    "\n",
    "# returns array of a column\n",
    "def get(collumn):\n",
    "    url = \"https://huggingface.co/datasets/FronkonGames/steam-games-dataset/resolve/main/games.json?download=true\"\n",
    "    response = requests.get(url)\n",
    "    dataset = json.loads(response.text)\n",
    "\n",
    "    data = []\n",
    "\n",
    "    for app in dataset:\n",
    "        data.append(dataset[app][collumn])\n",
    "\n",
    "    return data"
   ]
  },
  {
   "cell_type": "code",
   "execution_count": null,
   "metadata": {},
   "outputs": [],
   "source": [
    "img_width = 460\n",
    "img_height = 215\n",
    "\n",
    "images = []\n",
    "est_owners = []\n",
    "\n",
    "for image, players in zip(get('header_image'), get('estimated_owners')):\n",
    "    images.append(image)\n",
    "    est_owners.append(players)\n",
    "    print(image + \": \" + players)"
   ]
  },
  {
   "cell_type": "markdown",
   "metadata": {},
   "source": [
    "Expected output:\n",
    "\n",
    "https://cdn.akamai.steamstatic.com/steam/apps/20200/header.jpg?t=1640121033: 0 - 20000\n",
    "https://cdn.akamai.steamstatic.com/steam/apps/655370/header.jpg?t=1617500526: 0 - 20000\n",
    "https://cdn.akamai.steamstatic.com/steam/apps/1732930/header.jpg?t=1637149386: 0 - 20000\n",
    "https://cdn.akamai.steamstatic.com/steam/apps/1355720/header.jpg?t=1639875115: 0 - 20000\n",
    "https://cdn.akamai.steamstatic.com/steam/apps/1139950/header.jpg?t=1595003825: 0 - 20000\n",
    "https://cdn.akamai.steamstatic.com/steam/apps/1469160/header.jpg?t=1617078164: 50000 - 100000\n",
    "\n",
    "...\n",
    "etc"
   ]
  },
  {
   "cell_type": "code",
   "execution_count": null,
   "metadata": {},
   "outputs": [],
   "source": [
    "dataset = tf.data.Dataset.from_tensor_slices(images)\n",
    "\n",
    "def get(url):\n",
    "    with urlopen(str(url.numpy().decode(\"utf-8\"))) as request:\n",
    "        img_array = np.asarray(bytearray(request.read()), dtype=np.uint8)\n",
    "    img = cv2.imdecode(img_array, cv2.IMREAD_COLOR)\n",
    "    return cv2.cvtColor(img, cv2.COLOR_BGR2RGB)\n",
    "\n",
    "def read_image_from_url(url):\n",
    "    return tf.py_function(get, [url], tf.uint8)\n",
    "\n",
    "\n",
    "dataset_images = dataset.map(lambda x: read_image_from_url(x))\n",
    "\n",
    "for d in dataset_images:\n",
    "  print(d)\n"
   ]
  },
  {
   "cell_type": "code",
   "execution_count": null,
   "metadata": {},
   "outputs": [],
   "source": [
    "def download_image(url, folder):\n",
    "\n",
    "    # Create folder if it doesn't exist\n",
    "    try:\n",
    "        os.mkdir(\"dataset/\" + folder)\n",
    "    except FileExistsError:\n",
    "        pass\n",
    "\n",
    "    # Send GET request\n",
    "    response = requests.get(url)\n",
    "\n",
    "    # Save the image\n",
    "    if response.status_code == 200:\n",
    "        with open(\"dataset/\" + folder + \"/\" + str(i) + \".jpg\", \"wb\") as f:\n",
    "            f.write(response.content)\n",
    "    else:\n",
    "        print(response.status_code)\n",
    "\n",
    "i = 0\n",
    "for (image, catogories) in zip(images, est_owners):\n",
    "    download_image(image, catogories)\n",
    "    print(i)\n",
    "    i += 1"
   ]
  },
  {
   "cell_type": "code",
   "execution_count": null,
   "metadata": {},
   "outputs": [],
   "source": [
    "train_data = tf.keras.utils.image_dataset_from_directory(\n",
    "    \"dataset\", \n",
    "    validation_split = 0.3,\n",
    "    subset = 'training',\n",
    "    seed = 123,\n",
    "    image_size = (img_height, img_width),\n",
    "    batch_size = 32\n",
    ")\n",
    "test_data = tf.keras.utils.image_dataset_from_directory(\n",
    "    'dataset', \n",
    "    validation_split = 0.3,\n",
    "    subset = 'validation',\n",
    "    seed = 123,\n",
    "    image_size = (img_height, img_width),\n",
    "    batch_size = 32\n",
    ")\n",
    "\n",
    "class_name = train_data.class_names\n",
    "print(class_name)"
   ]
  },
  {
   "cell_type": "code",
   "execution_count": null,
   "metadata": {},
   "outputs": [],
   "source": [
    "for image_batch, label_batch in train_data:\n",
    "    print(image_batch.shape)\n",
    "    print(label_batch.shape)\n",
    "    break"
   ]
  },
  {
   "cell_type": "code",
   "execution_count": null,
   "metadata": {},
   "outputs": [],
   "source": [
    "model = tf.keras.Sequential([\n",
    "  tf.keras.layers.Rescaling(1./255, input_shape=(img_height, img_width, 3)),\n",
    "  tf.keras.layers.Conv2D(16, 3, padding='same', activation='relu'),\n",
    "  tf.keras.layers.MaxPooling2D(),\n",
    "  tf.keras.layers.Conv2D(32, 3, padding='same', activation='relu'),\n",
    "  tf.keras.layers.MaxPooling2D(),\n",
    "  tf.keras.layers.Conv2D(64, 3, padding='same', activation='relu'),\n",
    "  tf.keras.layers.MaxPooling2D(),\n",
    "  tf.keras.layers.Flatten(),\n",
    "  tf.keras.layers.Dense(128, activation='relu'),\n",
    "  tf.keras.layers.Dense(13)\n",
    "])\n",
    "\n",
    "model.compile(optimizer='adam',\n",
    "              loss=tf.keras.losses.SparseCategoricalCrossentropy(from_logits=True),\n",
    "              metrics=['accuracy'])\n",
    "\n",
    "model.summary()"
   ]
  },
  {
   "cell_type": "code",
   "execution_count": null,
   "metadata": {},
   "outputs": [],
   "source": [
    "epochs = 10\n",
    "\n",
    "x = model.fit(train_data, validation_data=test_data, epochs=epochs)"
   ]
  },
  {
   "cell_type": "markdown",
   "metadata": {},
   "source": [
    "Epoch 1/10\n",
    "285/285 [==============================] - 150s 521ms/step - loss: 1.2986 - accuracy: 0.6707 - val_loss: 1.2551 - val_accuracy: 0.6703\n",
    "\n",
    "Epoch 2/10\n",
    "285/285 [==============================] - 143s 502ms/step - loss: 1.2055 - accuracy: 0.6726 - val_loss: 1.2788 - val_accuracy: 0.6678\n",
    "\n",
    "Epoch 3/10\n",
    " 52/285 [====>.........................] - ETA: 1:46 - loss: 1.0531 - accuracy: 0.6965\n",
    "\n",
    " Computer got to hot, had to stop lol."
   ]
  }
 ],
 "metadata": {
  "kernelspec": {
   "display_name": "Python 3",
   "language": "python",
   "name": "python3"
  },
  "language_info": {
   "codemirror_mode": {
    "name": "ipython",
    "version": 3
   },
   "file_extension": ".py",
   "mimetype": "text/x-python",
   "name": "python",
   "nbconvert_exporter": "python",
   "pygments_lexer": "ipython3",
   "version": "3.11.2"
  }
 },
 "nbformat": 4,
 "nbformat_minor": 2
}
