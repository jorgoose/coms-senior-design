{
  "cells": [
    {
      "cell_type": "markdown",
      "metadata": {
        "id": "Z251jt8xnllM"
      },
      "source": [
        "# Goal: Train a Neural Network to Predict Review Scores\n",
        "\n",
        "The goal of this code is to take a ton of data about Steam games, and use these data points to predict the review score of games that have not yet been released.\n",
        "\n",
        "After training the model, in simple terms, we should effectively have a function:\n",
        "\n",
        "$f(X_{1}, X_{2}, ... X_{n}) = Y$ where $X_{1}, X_{2}, ... X_{n}$ are various variables from the dataset like price or genre, and $Y$ is the review score."
      ]
    },
    {
      "cell_type": "markdown",
      "metadata": {
        "id": "I9dX1z1zts-B"
      },
      "source": [
        "*Code for Imports*"
      ]
    },
    {
      "cell_type": "code",
      "execution_count": null,
      "metadata": {
        "id": "HX4I-SxMthJK"
      },
      "outputs": [],
      "source": [
        "# Imports\n",
        "import requests\n",
        "import json\n",
        "\n",
        "import pandas as pd\n",
        "from sklearn.model_selection import train_test_split\n",
        "from sklearn.preprocessing import StandardScaler, OneHotEncoder\n",
        "from sklearn.compose import ColumnTransformer\n",
        "from sklearn.pipeline import Pipeline\n",
        "\n",
        "import tensorflow as tf"
      ]
    },
    {
      "cell_type": "markdown",
      "metadata": {
        "id": "2KBX3wabhGUX"
      },
      "source": [
        "# Import the Dataset from Hugging Face"
      ]
    },
    {
      "cell_type": "code",
      "execution_count": null,
      "metadata": {
        "id": "TceQnfvghRl0"
      },
      "outputs": [],
      "source": [
        "# Download the dataset\n",
        "url = \"https://huggingface.co/datasets/FronkonGames/steam-games-dataset/resolve/main/games.json?download=true\"\n",
        "response = requests.get(url)\n",
        "dataset = json.loads(response.text)\n",
        "\n",
        "# Filter out games with no reviews\n",
        "dataset = {app: data for app, data in dataset.items() if data['positive'] + data['negative'] > 0}"
      ]
    },
    {
      "cell_type": "markdown",
      "metadata": {
        "id": "xI_OdrtAhKcz"
      },
      "source": [
        "# Calculating Positive Review Ratio & One-Hot Encoding\n",
        "\n",
        "\n",
        "## 1: Positive Review Ratio\n",
        "In our model, we want to use the variables $X_{1}, X_{2}, X_{3}, ... X_{n}$ (ex: does the game run on Mac, is the game an Action game, etc.) to predict an variable outcome $Y$. In this case, $Y$ will be the *positive review ratio* (what % of total reviews are positive?). To calculate this value, using the \"Positive\" and \"Negative\" column values already in the dataset, we can do:\n",
        "\n",
        "$\\frac{Positive}{Positive + Negative}$\n",
        "\n",
        "With this column, we now have our $Y$ for the model. Now, we just need to prepare the $X$ inputs in a way that can be interpreted by the model.\n",
        "\n",
        "## 2: One-Hot Encoding\n",
        "For certain $X$'s, there are clear numerical values. For example, a column like ```Price``` is a float, and thus already numerical. Columns like ```Windows``` or ```Mac``` are booleans, which are not technically numerical, but can easily be converted to numbers as 0 and 1.\n",
        "\n",
        "When we get to columns like ```Categories``` or ```Genres```, things get trickier. There is not a simple numeric value for each possible label for these columns (ex: Sports, Action, Strategy, Racing...).\n",
        "\n",
        "For these columns we can use *one-hot encoding*, which basically creates a new column for each label. For example, if the ```Genres``` column originally had only three possible genres -- say Sports, Strategy, and Racing -- we can convert this column into three seperate columns. An example of this process on a small dataset would be something like:\n",
        "\n",
        "&nbsp;\n",
        "\n",
        "*Before One-Hot Encoding*\n",
        "\n",
        "| Game Name      | Genres |\n",
        "| ----------- | ----------- |\n",
        "| Retro Bowl      | Sports, Strategy       |\n",
        "| Forza Horizon 5   | Racing        |\n",
        "\n",
        "&nbsp;\n",
        "\n",
        "*After One-Hot*\n",
        "\n",
        "| Game Name      | Genre_Sports | Genre_Strategy | Genre_Racing |\n",
        "| ----------- | ----------- | ----------- | ----------- |\n",
        "| Retro Bowl      | 1 | 1 | 0 |\n",
        "| Forza Horizon 5   | 0 | 0 | 1 |"
      ]
    },
    {
      "cell_type": "code",
      "execution_count": null,
      "metadata": {
        "id": "rLWpTZolj9r_"
      },
      "outputs": [],
      "source": [
        "# Convert the dataset to a DataFrame\n",
        "data = []\n",
        "for app, game in dataset.items():\n",
        "    game['appID'] = app\n",
        "    data.append(game)\n",
        "df = pd.DataFrame(data)\n",
        "\n",
        "# Calculate the positive review ratio\n",
        "df['positive_ratio'] = df['positive'] / (df['positive'] + df['negative'])\n",
        "\n",
        "# TODO: A potentially useful feature would be a boolean for support email (null = 0, anything else = 1), same with website\n",
        "# TODO: A potentially useful feature would be release month, maybe even \"release day\" as a value from 1-365 or something\n",
        "# TODO: Figure out if other columns could be useful features, like \"Required age\" or maybe even the textual contents of \"About the game\"... something crazy could be one-hot encoding for individual words lol. Could also extract data from the header image (all games have one)\n",
        "\n",
        "# Fill missing values for list-type features\n",
        "# TODO: Need to add support for \"Full audio languages\" not just \"Supported languages\"\n",
        "list_features = ['supported_languages', 'categories', 'genres', 'tags']\n",
        "for feature in list_features:\n",
        "    df[feature] = df[feature].apply(lambda x: x if isinstance(x, list) else [])\n",
        "\n",
        "# One-hot encode list-type features\n",
        "new_columns = {}\n",
        "for feature in list_features:\n",
        "    unique_items = set(item for sublist in df[feature] for item in sublist)\n",
        "    for item in unique_items:\n",
        "        new_columns[f'{feature}_{item}'] = df[feature].apply(lambda x: 1 if item in x else 0)\n",
        "\n",
        "# Add new columns to the DataFrame\n",
        "df = pd.concat([df, pd.DataFrame(new_columns)], axis=1)\n",
        "\n",
        "# Drop the original list-type features\n",
        "df.drop(list_features, axis=1, inplace=True)"
      ]
    },
    {
      "cell_type": "markdown",
      "metadata": {
        "id": "AY4rZffPmpKG"
      },
      "source": [
        "# View the Dataframe to Validate One-Hot Encoding"
      ]
    },
    {
      "cell_type": "code",
      "execution_count": null,
      "metadata": {
        "colab": {
          "base_uri": "https://localhost:8080/",
          "height": 516
        },
        "id": "Csuy0LjFmj2_",
        "outputId": "5a82bb36-e8e1-4acd-c55f-4ffe7fce5b45"
      },
      "outputs": [
        {
          "data": {
            "text/html": [
              "\n",
              "  <div id=\"df-33cfbb7b-3549-4ad4-8a2e-fb7fe117592e\" class=\"colab-df-container\">\n",
              "    <div>\n",
              "<style scoped>\n",
              "    .dataframe tbody tr th:only-of-type {\n",
              "        vertical-align: middle;\n",
              "    }\n",
              "\n",
              "    .dataframe tbody tr th {\n",
              "        vertical-align: top;\n",
              "    }\n",
              "\n",
              "    .dataframe thead th {\n",
              "        text-align: right;\n",
              "    }\n",
              "</style>\n",
              "<table border=\"1\" class=\"dataframe\">\n",
              "  <thead>\n",
              "    <tr style=\"text-align: right;\">\n",
              "      <th></th>\n",
              "      <th>name</th>\n",
              "      <th>release_date</th>\n",
              "      <th>required_age</th>\n",
              "      <th>price</th>\n",
              "      <th>dlc_count</th>\n",
              "      <th>detailed_description</th>\n",
              "      <th>about_the_game</th>\n",
              "      <th>short_description</th>\n",
              "      <th>reviews</th>\n",
              "      <th>header_image</th>\n",
              "      <th>...</th>\n",
              "      <th>genres_Utilities</th>\n",
              "      <th>genres_Violent</th>\n",
              "      <th>genres_Web Publishing</th>\n",
              "      <th>genres_Strategy</th>\n",
              "      <th>genres_Massively Multiplayer</th>\n",
              "      <th>genres_Software Training</th>\n",
              "      <th>genres_Gore</th>\n",
              "      <th>genres_Casual</th>\n",
              "      <th>genres_Action</th>\n",
              "      <th>genres_Photo Editing</th>\n",
              "    </tr>\n",
              "  </thead>\n",
              "  <tbody>\n",
              "    <tr>\n",
              "      <th>0</th>\n",
              "      <td>Galactic Bowling</td>\n",
              "      <td>Oct 21, 2008</td>\n",
              "      <td>0</td>\n",
              "      <td>19.99</td>\n",
              "      <td>0</td>\n",
              "      <td>Galactic Bowling is an exaggerated and stylize...</td>\n",
              "      <td>Galactic Bowling is an exaggerated and stylize...</td>\n",
              "      <td>Galactic Bowling is an exaggerated and stylize...</td>\n",
              "      <td></td>\n",
              "      <td>https://cdn.akamai.steamstatic.com/steam/apps/...</td>\n",
              "      <td>...</td>\n",
              "      <td>0</td>\n",
              "      <td>0</td>\n",
              "      <td>0</td>\n",
              "      <td>0</td>\n",
              "      <td>0</td>\n",
              "      <td>0</td>\n",
              "      <td>0</td>\n",
              "      <td>1</td>\n",
              "      <td>0</td>\n",
              "      <td>0</td>\n",
              "    </tr>\n",
              "    <tr>\n",
              "      <th>1</th>\n",
              "      <td>Train Bandit</td>\n",
              "      <td>Oct 12, 2017</td>\n",
              "      <td>0</td>\n",
              "      <td>0.99</td>\n",
              "      <td>0</td>\n",
              "      <td>THE LAW!! Looks to be a showdown atop a train....</td>\n",
              "      <td>THE LAW!! Looks to be a showdown atop a train....</td>\n",
              "      <td>THE LAW!! Looks to be a showdown atop a train....</td>\n",
              "      <td></td>\n",
              "      <td>https://cdn.akamai.steamstatic.com/steam/apps/...</td>\n",
              "      <td>...</td>\n",
              "      <td>0</td>\n",
              "      <td>0</td>\n",
              "      <td>0</td>\n",
              "      <td>0</td>\n",
              "      <td>0</td>\n",
              "      <td>0</td>\n",
              "      <td>0</td>\n",
              "      <td>0</td>\n",
              "      <td>1</td>\n",
              "      <td>0</td>\n",
              "    </tr>\n",
              "    <tr>\n",
              "      <th>2</th>\n",
              "      <td>Henosis™</td>\n",
              "      <td>Jul 23, 2020</td>\n",
              "      <td>0</td>\n",
              "      <td>5.99</td>\n",
              "      <td>0</td>\n",
              "      <td>HENOSIS™ is a mysterious 2D Platform Puzzler w...</td>\n",
              "      <td>HENOSIS™ is a mysterious 2D Platform Puzzler w...</td>\n",
              "      <td>HENOSIS™ is a mysterious 2D Platform Puzzler w...</td>\n",
              "      <td></td>\n",
              "      <td>https://cdn.akamai.steamstatic.com/steam/apps/...</td>\n",
              "      <td>...</td>\n",
              "      <td>0</td>\n",
              "      <td>0</td>\n",
              "      <td>0</td>\n",
              "      <td>0</td>\n",
              "      <td>0</td>\n",
              "      <td>0</td>\n",
              "      <td>0</td>\n",
              "      <td>1</td>\n",
              "      <td>0</td>\n",
              "      <td>0</td>\n",
              "    </tr>\n",
              "    <tr>\n",
              "      <th>3</th>\n",
              "      <td>Two Weeks in Painland</td>\n",
              "      <td>Feb 3, 2020</td>\n",
              "      <td>0</td>\n",
              "      <td>0.00</td>\n",
              "      <td>0</td>\n",
              "      <td>ABOUT THE GAME Play as a hacker who has arrang...</td>\n",
              "      <td>ABOUT THE GAME Play as a hacker who has arrang...</td>\n",
              "      <td>Two Weeks in Painland is a story-driven game a...</td>\n",
              "      <td></td>\n",
              "      <td>https://cdn.akamai.steamstatic.com/steam/apps/...</td>\n",
              "      <td>...</td>\n",
              "      <td>0</td>\n",
              "      <td>0</td>\n",
              "      <td>0</td>\n",
              "      <td>0</td>\n",
              "      <td>0</td>\n",
              "      <td>0</td>\n",
              "      <td>0</td>\n",
              "      <td>0</td>\n",
              "      <td>0</td>\n",
              "      <td>0</td>\n",
              "    </tr>\n",
              "    <tr>\n",
              "      <th>4</th>\n",
              "      <td>Wartune Reborn</td>\n",
              "      <td>Feb 26, 2021</td>\n",
              "      <td>0</td>\n",
              "      <td>0.00</td>\n",
              "      <td>0</td>\n",
              "      <td>Feel tired of auto-fight? Feel tired of boring...</td>\n",
              "      <td>Feel tired of auto-fight? Feel tired of boring...</td>\n",
              "      <td>'Wartune Reborn' epic magic TBS game was devel...</td>\n",
              "      <td></td>\n",
              "      <td>https://cdn.akamai.steamstatic.com/steam/apps/...</td>\n",
              "      <td>...</td>\n",
              "      <td>0</td>\n",
              "      <td>0</td>\n",
              "      <td>0</td>\n",
              "      <td>1</td>\n",
              "      <td>1</td>\n",
              "      <td>0</td>\n",
              "      <td>0</td>\n",
              "      <td>1</td>\n",
              "      <td>0</td>\n",
              "      <td>0</td>\n",
              "    </tr>\n",
              "  </tbody>\n",
              "</table>\n",
              "<p>5 rows × 246 columns</p>\n",
              "</div>\n",
              "    <div class=\"colab-df-buttons\">\n",
              "\n",
              "  <div class=\"colab-df-container\">\n",
              "    <button class=\"colab-df-convert\" onclick=\"convertToInteractive('df-33cfbb7b-3549-4ad4-8a2e-fb7fe117592e')\"\n",
              "            title=\"Convert this dataframe to an interactive table.\"\n",
              "            style=\"display:none;\">\n",
              "\n",
              "  <svg xmlns=\"http://www.w3.org/2000/svg\" height=\"24px\" viewBox=\"0 -960 960 960\">\n",
              "    <path d=\"M120-120v-720h720v720H120Zm60-500h600v-160H180v160Zm220 220h160v-160H400v160Zm0 220h160v-160H400v160ZM180-400h160v-160H180v160Zm440 0h160v-160H620v160ZM180-180h160v-160H180v160Zm440 0h160v-160H620v160Z\"/>\n",
              "  </svg>\n",
              "    </button>\n",
              "\n",
              "  <style>\n",
              "    .colab-df-container {\n",
              "      display:flex;\n",
              "      gap: 12px;\n",
              "    }\n",
              "\n",
              "    .colab-df-convert {\n",
              "      background-color: #E8F0FE;\n",
              "      border: none;\n",
              "      border-radius: 50%;\n",
              "      cursor: pointer;\n",
              "      display: none;\n",
              "      fill: #1967D2;\n",
              "      height: 32px;\n",
              "      padding: 0 0 0 0;\n",
              "      width: 32px;\n",
              "    }\n",
              "\n",
              "    .colab-df-convert:hover {\n",
              "      background-color: #E2EBFA;\n",
              "      box-shadow: 0px 1px 2px rgba(60, 64, 67, 0.3), 0px 1px 3px 1px rgba(60, 64, 67, 0.15);\n",
              "      fill: #174EA6;\n",
              "    }\n",
              "\n",
              "    .colab-df-buttons div {\n",
              "      margin-bottom: 4px;\n",
              "    }\n",
              "\n",
              "    [theme=dark] .colab-df-convert {\n",
              "      background-color: #3B4455;\n",
              "      fill: #D2E3FC;\n",
              "    }\n",
              "\n",
              "    [theme=dark] .colab-df-convert:hover {\n",
              "      background-color: #434B5C;\n",
              "      box-shadow: 0px 1px 3px 1px rgba(0, 0, 0, 0.15);\n",
              "      filter: drop-shadow(0px 1px 2px rgba(0, 0, 0, 0.3));\n",
              "      fill: #FFFFFF;\n",
              "    }\n",
              "  </style>\n",
              "\n",
              "    <script>\n",
              "      const buttonEl =\n",
              "        document.querySelector('#df-33cfbb7b-3549-4ad4-8a2e-fb7fe117592e button.colab-df-convert');\n",
              "      buttonEl.style.display =\n",
              "        google.colab.kernel.accessAllowed ? 'block' : 'none';\n",
              "\n",
              "      async function convertToInteractive(key) {\n",
              "        const element = document.querySelector('#df-33cfbb7b-3549-4ad4-8a2e-fb7fe117592e');\n",
              "        const dataTable =\n",
              "          await google.colab.kernel.invokeFunction('convertToInteractive',\n",
              "                                                    [key], {});\n",
              "        if (!dataTable) return;\n",
              "\n",
              "        const docLinkHtml = 'Like what you see? Visit the ' +\n",
              "          '<a target=\"_blank\" href=https://colab.research.google.com/notebooks/data_table.ipynb>data table notebook</a>'\n",
              "          + ' to learn more about interactive tables.';\n",
              "        element.innerHTML = '';\n",
              "        dataTable['output_type'] = 'display_data';\n",
              "        await google.colab.output.renderOutput(dataTable, element);\n",
              "        const docLink = document.createElement('div');\n",
              "        docLink.innerHTML = docLinkHtml;\n",
              "        element.appendChild(docLink);\n",
              "      }\n",
              "    </script>\n",
              "  </div>\n",
              "\n",
              "\n",
              "<div id=\"df-97d6a673-e618-45c9-a13c-83fbb955a929\">\n",
              "  <button class=\"colab-df-quickchart\" onclick=\"quickchart('df-97d6a673-e618-45c9-a13c-83fbb955a929')\"\n",
              "            title=\"Suggest charts\"\n",
              "            style=\"display:none;\">\n",
              "\n",
              "<svg xmlns=\"http://www.w3.org/2000/svg\" height=\"24px\"viewBox=\"0 0 24 24\"\n",
              "     width=\"24px\">\n",
              "    <g>\n",
              "        <path d=\"M19 3H5c-1.1 0-2 .9-2 2v14c0 1.1.9 2 2 2h14c1.1 0 2-.9 2-2V5c0-1.1-.9-2-2-2zM9 17H7v-7h2v7zm4 0h-2V7h2v10zm4 0h-2v-4h2v4z\"/>\n",
              "    </g>\n",
              "</svg>\n",
              "  </button>\n",
              "\n",
              "<style>\n",
              "  .colab-df-quickchart {\n",
              "      --bg-color: #E8F0FE;\n",
              "      --fill-color: #1967D2;\n",
              "      --hover-bg-color: #E2EBFA;\n",
              "      --hover-fill-color: #174EA6;\n",
              "      --disabled-fill-color: #AAA;\n",
              "      --disabled-bg-color: #DDD;\n",
              "  }\n",
              "\n",
              "  [theme=dark] .colab-df-quickchart {\n",
              "      --bg-color: #3B4455;\n",
              "      --fill-color: #D2E3FC;\n",
              "      --hover-bg-color: #434B5C;\n",
              "      --hover-fill-color: #FFFFFF;\n",
              "      --disabled-bg-color: #3B4455;\n",
              "      --disabled-fill-color: #666;\n",
              "  }\n",
              "\n",
              "  .colab-df-quickchart {\n",
              "    background-color: var(--bg-color);\n",
              "    border: none;\n",
              "    border-radius: 50%;\n",
              "    cursor: pointer;\n",
              "    display: none;\n",
              "    fill: var(--fill-color);\n",
              "    height: 32px;\n",
              "    padding: 0;\n",
              "    width: 32px;\n",
              "  }\n",
              "\n",
              "  .colab-df-quickchart:hover {\n",
              "    background-color: var(--hover-bg-color);\n",
              "    box-shadow: 0 1px 2px rgba(60, 64, 67, 0.3), 0 1px 3px 1px rgba(60, 64, 67, 0.15);\n",
              "    fill: var(--button-hover-fill-color);\n",
              "  }\n",
              "\n",
              "  .colab-df-quickchart-complete:disabled,\n",
              "  .colab-df-quickchart-complete:disabled:hover {\n",
              "    background-color: var(--disabled-bg-color);\n",
              "    fill: var(--disabled-fill-color);\n",
              "    box-shadow: none;\n",
              "  }\n",
              "\n",
              "  .colab-df-spinner {\n",
              "    border: 2px solid var(--fill-color);\n",
              "    border-color: transparent;\n",
              "    border-bottom-color: var(--fill-color);\n",
              "    animation:\n",
              "      spin 1s steps(1) infinite;\n",
              "  }\n",
              "\n",
              "  @keyframes spin {\n",
              "    0% {\n",
              "      border-color: transparent;\n",
              "      border-bottom-color: var(--fill-color);\n",
              "      border-left-color: var(--fill-color);\n",
              "    }\n",
              "    20% {\n",
              "      border-color: transparent;\n",
              "      border-left-color: var(--fill-color);\n",
              "      border-top-color: var(--fill-color);\n",
              "    }\n",
              "    30% {\n",
              "      border-color: transparent;\n",
              "      border-left-color: var(--fill-color);\n",
              "      border-top-color: var(--fill-color);\n",
              "      border-right-color: var(--fill-color);\n",
              "    }\n",
              "    40% {\n",
              "      border-color: transparent;\n",
              "      border-right-color: var(--fill-color);\n",
              "      border-top-color: var(--fill-color);\n",
              "    }\n",
              "    60% {\n",
              "      border-color: transparent;\n",
              "      border-right-color: var(--fill-color);\n",
              "    }\n",
              "    80% {\n",
              "      border-color: transparent;\n",
              "      border-right-color: var(--fill-color);\n",
              "      border-bottom-color: var(--fill-color);\n",
              "    }\n",
              "    90% {\n",
              "      border-color: transparent;\n",
              "      border-bottom-color: var(--fill-color);\n",
              "    }\n",
              "  }\n",
              "</style>\n",
              "\n",
              "  <script>\n",
              "    async function quickchart(key) {\n",
              "      const quickchartButtonEl =\n",
              "        document.querySelector('#' + key + ' button');\n",
              "      quickchartButtonEl.disabled = true;  // To prevent multiple clicks.\n",
              "      quickchartButtonEl.classList.add('colab-df-spinner');\n",
              "      try {\n",
              "        const charts = await google.colab.kernel.invokeFunction(\n",
              "            'suggestCharts', [key], {});\n",
              "      } catch (error) {\n",
              "        console.error('Error during call to suggestCharts:', error);\n",
              "      }\n",
              "      quickchartButtonEl.classList.remove('colab-df-spinner');\n",
              "      quickchartButtonEl.classList.add('colab-df-quickchart-complete');\n",
              "    }\n",
              "    (() => {\n",
              "      let quickchartButtonEl =\n",
              "        document.querySelector('#df-97d6a673-e618-45c9-a13c-83fbb955a929 button');\n",
              "      quickchartButtonEl.style.display =\n",
              "        google.colab.kernel.accessAllowed ? 'block' : 'none';\n",
              "    })();\n",
              "  </script>\n",
              "</div>\n",
              "\n",
              "    </div>\n",
              "  </div>\n"
            ],
            "text/plain": [
              "                    name  release_date  required_age  price  dlc_count  \\\n",
              "0       Galactic Bowling  Oct 21, 2008             0  19.99          0   \n",
              "1           Train Bandit  Oct 12, 2017             0   0.99          0   \n",
              "2               Henosis™  Jul 23, 2020             0   5.99          0   \n",
              "3  Two Weeks in Painland   Feb 3, 2020             0   0.00          0   \n",
              "4         Wartune Reborn  Feb 26, 2021             0   0.00          0   \n",
              "\n",
              "                                detailed_description  \\\n",
              "0  Galactic Bowling is an exaggerated and stylize...   \n",
              "1  THE LAW!! Looks to be a showdown atop a train....   \n",
              "2  HENOSIS™ is a mysterious 2D Platform Puzzler w...   \n",
              "3  ABOUT THE GAME Play as a hacker who has arrang...   \n",
              "4  Feel tired of auto-fight? Feel tired of boring...   \n",
              "\n",
              "                                      about_the_game  \\\n",
              "0  Galactic Bowling is an exaggerated and stylize...   \n",
              "1  THE LAW!! Looks to be a showdown atop a train....   \n",
              "2  HENOSIS™ is a mysterious 2D Platform Puzzler w...   \n",
              "3  ABOUT THE GAME Play as a hacker who has arrang...   \n",
              "4  Feel tired of auto-fight? Feel tired of boring...   \n",
              "\n",
              "                                   short_description reviews  \\\n",
              "0  Galactic Bowling is an exaggerated and stylize...           \n",
              "1  THE LAW!! Looks to be a showdown atop a train....           \n",
              "2  HENOSIS™ is a mysterious 2D Platform Puzzler w...           \n",
              "3  Two Weeks in Painland is a story-driven game a...           \n",
              "4  'Wartune Reborn' epic magic TBS game was devel...           \n",
              "\n",
              "                                        header_image  ... genres_Utilities  \\\n",
              "0  https://cdn.akamai.steamstatic.com/steam/apps/...  ...                0   \n",
              "1  https://cdn.akamai.steamstatic.com/steam/apps/...  ...                0   \n",
              "2  https://cdn.akamai.steamstatic.com/steam/apps/...  ...                0   \n",
              "3  https://cdn.akamai.steamstatic.com/steam/apps/...  ...                0   \n",
              "4  https://cdn.akamai.steamstatic.com/steam/apps/...  ...                0   \n",
              "\n",
              "  genres_Violent genres_Web Publishing  genres_Strategy  \\\n",
              "0              0                     0                0   \n",
              "1              0                     0                0   \n",
              "2              0                     0                0   \n",
              "3              0                     0                0   \n",
              "4              0                     0                1   \n",
              "\n",
              "   genres_Massively Multiplayer  genres_Software Training  genres_Gore  \\\n",
              "0                             0                         0            0   \n",
              "1                             0                         0            0   \n",
              "2                             0                         0            0   \n",
              "3                             0                         0            0   \n",
              "4                             1                         0            0   \n",
              "\n",
              "  genres_Casual  genres_Action  genres_Photo Editing  \n",
              "0             1              0                     0  \n",
              "1             0              1                     0  \n",
              "2             1              0                     0  \n",
              "3             0              0                     0  \n",
              "4             1              0                     0  \n",
              "\n",
              "[5 rows x 246 columns]"
            ]
          },
          "execution_count": 8,
          "metadata": {},
          "output_type": "execute_result"
        }
      ],
      "source": [
        "df.head()"
      ]
    },
    {
      "cell_type": "markdown",
      "metadata": {
        "id": "Hi_gP50l0tRq"
      },
      "source": [
        "# Analyzing Potential Features for Training"
      ]
    },
    {
      "cell_type": "code",
      "execution_count": null,
      "metadata": {
        "colab": {
          "base_uri": "https://localhost:8080/"
        },
        "id": "Kn2sGFq40S3_",
        "outputId": "073d70e2-a344-400a-8efc-4cdcf9bf40c3"
      },
      "outputs": [
        {
          "name": "stderr",
          "output_type": "stream",
          "text": [
            "<ipython-input-9-91f9d05b3b38>:2: FutureWarning: The default value of numeric_only in DataFrame.corr is deprecated. In a future version, it will default to False. Select only valid columns or specify the value of numeric_only to silence this warning.\n",
            "  correlation_matrix = df.corr()\n"
          ]
        },
        {
          "name": "stdout",
          "output_type": "stream",
          "text": [
            "positive_ratio                        1.000000\n",
            "categories_Steam Cloud                0.142570\n",
            "categories_Full controller support    0.127658\n",
            "categories_Steam Achievements         0.126211\n",
            "mac                                   0.078062\n",
            "                                        ...   \n",
            "categories_In-App Purchases          -0.046166\n",
            "categories_MMO                       -0.053476\n",
            "genres_Violent                       -0.060402\n",
            "genres_Massively Multiplayer         -0.074687\n",
            "genres_Simulation                    -0.086303\n",
            "Name: positive_ratio, Length: 225, dtype: float64\n"
          ]
        }
      ],
      "source": [
        "# Calculate correlation with the target variable\n",
        "correlation_matrix = df.corr()\n",
        "correlation_with_target = correlation_matrix['positive_ratio'].sort_values(ascending=False)\n",
        "\n",
        "# Display correlations\n",
        "print(correlation_with_target)"
      ]
    },
    {
      "cell_type": "markdown",
      "metadata": {
        "id": "65UlT8Ih1Bw7"
      },
      "source": [
        "# Selecting Features, Splitting Data (Training vs. Testing), and Preprocessing"
      ]
    },
    {
      "cell_type": "code",
      "execution_count": null,
      "metadata": {
        "id": "KBak4zDdz0Gz"
      },
      "outputs": [],
      "source": [
        "# Select features and target variable\n",
        "features = ['price', 'windows', 'mac', 'linux', 'achievements'] + list(new_columns.keys()) # TODO: I chose arbitrary values. We can choose what features we want to remove or add here based on analysis >:)\n",
        "target = 'positive_ratio'\n",
        "\n",
        "# Split the data into training and testing sets\n",
        "X = df[features]\n",
        "y = df[target]\n",
        "X_train, X_test, y_train, y_test = train_test_split(X, y, test_size=0.2, random_state=42)\n",
        "\n",
        "# Define preprocessing for numerical features\n",
        "numerical_features = ['price', 'achievements']\n",
        "numerical_transformer = StandardScaler()\n",
        "\n",
        "# Preprocess the data\n",
        "preprocessor = ColumnTransformer(transformers=[('num', numerical_transformer, numerical_features)])\n",
        "X_train = preprocessor.fit_transform(X_train)\n",
        "X_test = preprocessor.transform(X_test)\n"
      ]
    },
    {
      "cell_type": "markdown",
      "metadata": {
        "id": "zz4edjm1t8Hn"
      },
      "source": [
        "# *(Optional)* Use GPU Runtime"
      ]
    },
    {
      "cell_type": "code",
      "execution_count": null,
      "metadata": {
        "colab": {
          "base_uri": "https://localhost:8080/"
        },
        "id": "8_SIJvJ3teWF",
        "outputId": "7bfd5607-e22c-4aa8-c432-034eaf736dd0"
      },
      "outputs": [
        {
          "name": "stdout",
          "output_type": "stream",
          "text": [
            "Found GPU at: /device:GPU:0\n"
          ]
        },
        {
          "data": {
            "text/plain": [
              "<tensorflow.python.eager.context._EagerDeviceContext at 0x78e02aa7ea80>"
            ]
          },
          "execution_count": 11,
          "metadata": {},
          "output_type": "execute_result"
        }
      ],
      "source": [
        "device_name = tf.test.gpu_device_name()\n",
        "if device_name != '/device:GPU:0':\n",
        "  tf.device('/cpu:0')\n",
        "print('Found GPU at: {}'.format(device_name))\n",
        "tf.device('/device:GPU:0')"
      ]
    },
    {
      "cell_type": "markdown",
      "metadata": {
        "id": "utjYLIHW0zHI"
      },
      "source": [
        "# Creating the Model"
      ]
    },
    {
      "cell_type": "code",
      "execution_count": null,
      "metadata": {
        "id": "aA2jR6hVqxRF"
      },
      "outputs": [],
      "source": [
        "\n",
        "# Define singular model\n",
        "model = tf.keras.models.Sequential([\n",
        "    tf.keras.layers.Dense(256, activation='relu', input_shape=(X_train.shape[1],)),\n",
        "    tf.keras.layers.Dropout(0.2),\n",
        "    tf.keras.layers.Dense(128, activation='relu'),\n",
        "    tf.keras.layers.Dense(64, activation='relu'),\n",
        "    tf.keras.layers.Dense(1, activation='sigmoid')\n",
        "])\n",
        "\n",
        "# Compile the model\n",
        "model.compile(optimizer='adam', loss='mean_squared_error', metrics=['mean_absolute_error'])"
      ]
    },
    {
      "cell_type": "markdown",
      "metadata": {
        "id": "8kn5A96801Dl"
      },
      "source": [
        "# Training the Model"
      ]
    },
    {
      "cell_type": "code",
      "execution_count": null,
      "metadata": {
        "colab": {
          "base_uri": "https://localhost:8080/"
        },
        "id": "Aj9GWlMRq2zF",
        "outputId": "55d79ac2-5b8b-49fc-c25a-0d58d3a2c258"
      },
      "outputs": [
        {
          "name": "stdout",
          "output_type": "stream",
          "text": [
            "Epoch 1/7\n",
            "1279/1279 [==============================] - 9s 4ms/step - loss: 0.0611 - mean_absolute_error: 0.1934 - val_loss: 0.0587 - val_mean_absolute_error: 0.1845\n",
            "Epoch 2/7\n",
            "1279/1279 [==============================] - 5s 4ms/step - loss: 0.0596 - mean_absolute_error: 0.1905 - val_loss: 0.0582 - val_mean_absolute_error: 0.1876\n",
            "Epoch 3/7\n",
            "1279/1279 [==============================] - 5s 4ms/step - loss: 0.0593 - mean_absolute_error: 0.1900 - val_loss: 0.0581 - val_mean_absolute_error: 0.1902\n",
            "Epoch 4/7\n",
            "1279/1279 [==============================] - 5s 4ms/step - loss: 0.0592 - mean_absolute_error: 0.1897 - val_loss: 0.0580 - val_mean_absolute_error: 0.1864\n",
            "Epoch 5/7\n",
            "1279/1279 [==============================] - 5s 4ms/step - loss: 0.0592 - mean_absolute_error: 0.1897 - val_loss: 0.0580 - val_mean_absolute_error: 0.1885\n",
            "Epoch 6/7\n",
            "1279/1279 [==============================] - 5s 4ms/step - loss: 0.0591 - mean_absolute_error: 0.1896 - val_loss: 0.0580 - val_mean_absolute_error: 0.1893\n",
            "Epoch 7/7\n",
            "1279/1279 [==============================] - 5s 4ms/step - loss: 0.0591 - mean_absolute_error: 0.1897 - val_loss: 0.0579 - val_mean_absolute_error: 0.1862\n"
          ]
        }
      ],
      "source": [
        "# Train the model\n",
        "history = model.fit(X_train, y_train, epochs=7, batch_size=32, validation_split=0.2)"
      ]
    },
    {
      "cell_type": "markdown",
      "metadata": {
        "id": "neXG6NSx021H"
      },
      "source": [
        "# Evaluating the Model Using Test Split"
      ]
    },
    {
      "cell_type": "code",
      "execution_count": null,
      "metadata": {
        "colab": {
          "base_uri": "https://localhost:8080/"
        },
        "id": "kJwsAQxHq5e0",
        "outputId": "5e369013-19c2-4ea0-9683-eec2f1498976"
      },
      "outputs": [
        {
          "name": "stdout",
          "output_type": "stream",
          "text": [
            "400/400 [==============================] - 1s 2ms/step - loss: 0.0596 - mean_absolute_error: 0.1912\n",
            "Test Loss: 0.059594444930553436, Test MAE: 0.1911848932504654\n"
          ]
        }
      ],
      "source": [
        "# Evaluate the model\n",
        "test_loss, test_mae = model.evaluate(X_test, y_test)\n",
        "print(f\"Test Loss: {test_loss}, Test MAE: {test_mae}\")"
      ]
    },
    {
      "cell_type": "markdown",
      "metadata": {
        "id": "FuHxkGFe07Gk"
      },
      "source": [
        "# Testing Different Epochs"
      ]
    },
    {
      "cell_type": "code",
      "execution_count": null,
      "metadata": {
        "id": "2yP7kerYkbtU"
      },
      "outputs": [],
      "source": [
        "# Now, to get an optimal model, we should try different epoch values and compare\n",
        "epoch_values = [3, 5, 7, 9, 11]\n",
        "results = []"
      ]
    },
    {
      "cell_type": "code",
      "execution_count": null,
      "metadata": {
        "colab": {
          "base_uri": "https://localhost:8080/"
        },
        "id": "yiLNe-fkkdJi",
        "outputId": "bbe315f5-6232-4aea-e559-9642865e8181"
      },
      "outputs": [
        {
          "name": "stdout",
          "output_type": "stream",
          "text": [
            "Epochs: 3, Test Loss: 0.05975359305739403, Test MAE: 0.18925181031227112\n",
            "Epochs: 5, Test Loss: 0.05961598828434944, Test MAE: 0.18973957002162933\n",
            "Epochs: 7, Test Loss: 0.05959172546863556, Test MAE: 0.18952052295207977\n",
            "Epochs: 9, Test Loss: 0.0596730075776577, Test MAE: 0.19211387634277344\n",
            "Epochs: 11, Test Loss: 0.059555940330028534, Test MAE: 0.1902962028980255\n"
          ]
        }
      ],
      "source": [
        "for epochs in epoch_values:\n",
        "    # Define the model\n",
        "    model = tf.keras.models.Sequential([\n",
        "        tf.keras.layers.Dense(256, activation='relu', input_shape=(X_train.shape[1],)),\n",
        "        tf.keras.layers.Dropout(0.2),\n",
        "        tf.keras.layers.Dense(128, activation='relu'),\n",
        "        tf.keras.layers.Dense(64, activation='relu'),\n",
        "        tf.keras.layers.Dense(1, activation='sigmoid')\n",
        "    ])\n",
        "\n",
        "    # Compile the model\n",
        "    model.compile(optimizer='adam', loss='mean_squared_error', metrics=['mean_absolute_error'])\n",
        "\n",
        "    # Train the model\n",
        "    history = model.fit(X_train, y_train, epochs=epochs, batch_size=32, validation_split=0.2, verbose=0)\n",
        "\n",
        "    # Evaluate the model\n",
        "    test_loss, test_mae = model.evaluate(X_test, y_test, verbose=0)\n",
        "    print(f\"Epochs: {epochs}, Test Loss: {test_loss}, Test MAE: {test_mae}\")\n",
        "    results.append((epochs, test_loss, test_mae))\n"
      ]
    },
    {
      "cell_type": "code",
      "execution_count": null,
      "metadata": {
        "colab": {
          "base_uri": "https://localhost:8080/",
          "height": 607
        },
        "id": "8rg4w4ZIo2B8",
        "outputId": "f006b431-b23b-4f7f-c5da-86bb58bdc64e"
      },
      "outputs": [
        {
          "data": {
            "image/png": "[encoded data removed]",
            "text/plain": [
              "<Figure size 1200x600 with 2 Axes>"
            ]
          },
          "metadata": {},
          "output_type": "display_data"
        }
      ],
      "source": [
        "import matplotlib.pyplot as plt\n",
        "\n",
        "# Extracting values for plotting\n",
        "epochs_list, losses, maes = zip(*results)\n",
        "\n",
        "# Plotting\n",
        "plt.figure(figsize=(12, 6))\n",
        "\n",
        "plt.subplot(1, 2, 1)\n",
        "plt.plot(epochs_list, losses, marker='o')\n",
        "plt.title('Test Loss vs. Epochs')\n",
        "plt.xlabel('Epochs')\n",
        "plt.ylabel('Test Loss')\n",
        "\n",
        "plt.subplot(1, 2, 2)\n",
        "plt.plot(epochs_list, maes, marker='o')\n",
        "plt.title('Test MAE vs. Epochs')\n",
        "plt.xlabel('Epochs')\n",
        "plt.ylabel('Test MAE')\n",
        "\n",
        "plt.tight_layout()\n",
        "plt.show()\n"
      ]
    },
    {
      "cell_type": "code",
      "execution_count": null,
      "metadata": {
        "id": "e7-OfUgGEgDp"
      },
      "outputs": [],
      "source": [
        "# prompt: Save the model weights\n",
        "\n",
        "model.save('steam_review_model.keras')\n"
      ]
    },
    {
      "cell_type": "code",
      "execution_count": null,
      "metadata": {
        "colab": {
          "base_uri": "https://localhost:8080/"
        },
        "id": "Xlh8s7icHmHI",
        "outputId": "25ebb013-3007-4372-b4c6-59677a4e92f6"
      },
      "outputs": [
        {
          "name": "stderr",
          "output_type": "stream",
          "text": [
            "WARNING:tensorflow:6 out of the last 6 calls to <function Model.make_predict_function.<locals>.predict_function at 0x78e04e1dd240> triggered tf.function retracing. Tracing is expensive and the excessive number of tracings could be due to (1) creating @tf.function repeatedly in a loop, (2) passing tensors with different shapes, (3) passing Python objects instead of tensors. For (1), please define your @tf.function outside of the loop. For (2), @tf.function has reduce_retracing=True option that can avoid unnecessary retracing. For (3), please refer to https://www.tensorflow.org/guide/function#controlling_retracing and https://www.tensorflow.org/api_docs/python/tf/function for  more details.\n"
          ]
        },
        {
          "name": "stdout",
          "output_type": "stream",
          "text": [
            "1/1 [==============================] - 0s 95ms/step\n",
            "Example 1: Predicted review ratio: 0.76\n",
            "Example 2: Predicted review ratio: 0.72\n",
            "Example 3: Predicted review ratio: 0.80\n",
            "Example 4: Predicted review ratio: 0.80\n",
            "Example 5: Predicted review ratio: 0.73\n"
          ]
        }
      ],
      "source": [
        "# prompt: Load the model weights and make a prediction with some example test inputs\n",
        "\n",
        "model = tf.keras.models.load_model('steam_review_model.keras')\n",
        "\n",
        "# model.predict(X values...)\n"
      ]
    }
  ],
  "metadata": {
    "accelerator": "GPU",
    "colab": {
      "gpuType": "T4",
      "provenance": []
    },
    "kernelspec": {
      "display_name": "Python 3",
      "name": "python3"
    },
    "language_info": {
      "name": "python"
    }
  },
  "nbformat": 4,
  "nbformat_minor": 0
}
